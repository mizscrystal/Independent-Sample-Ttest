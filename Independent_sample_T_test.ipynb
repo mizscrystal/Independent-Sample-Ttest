{
  "nbformat": 4,
  "nbformat_minor": 0,
  "metadata": {
    "colab": {
      "provenance": [],
      "authorship_tag": "ABX9TyO44Y62kHYjNRhhN8qmfBzQ",
      "include_colab_link": true
    },
    "kernelspec": {
      "name": "python3",
      "display_name": "Python 3"
    },
    "language_info": {
      "name": "python"
    }
  },
  "cells": [
    {
      "cell_type": "markdown",
      "metadata": {
        "id": "view-in-github",
        "colab_type": "text"
      },
      "source": [
        "<a href=\"https://colab.research.google.com/github/mizscrystal/Independent-Sample-Ttest/blob/main/Independent_sample_T_test.ipynb\" target=\"_parent\"><img src=\"https://colab.research.google.com/assets/colab-badge.svg\" alt=\"Open In Colab\"/></a>"
      ]
    },
    {
      "cell_type": "markdown",
      "source": [],
      "metadata": {
        "id": "G8oGNFcQ-rrY"
      }
    },
    {
      "cell_type": "code",
      "execution_count": null,
      "metadata": {
        "id": "ljJ-NoT7-BLn"
      },
      "outputs": [],
      "source": [
        "#independent T test\n",
        "SaveWell = [2.5, 4.9, 3.7, 4.1, 3.8, 3.0, 2.7, 3.8, 5.2, 1.5]\n",
        "SpendWise = [3.2, 9.2, 5.0, 2.9, 3.6, 3.9, 3.4, 2.5, 3.5, 3.5]"
      ]
    },
    {
      "cell_type": "code",
      "source": [
        "# for data loading/wrangling\n",
        "import numpy as np\n",
        "import pandas as pd\n",
        "# for stats tests\n",
        "import scipy.stats as st\n",
        "import statsmodels.api as sm\n",
        "# for visualisations\n",
        "from matplotlib import pyplot\n",
        "import seaborn as sns"
      ],
      "metadata": {
        "colab": {
          "base_uri": "https://localhost:8080/"
        },
        "id": "mxlJ4jr-AVWV",
        "outputId": "dc82221a-0ddd-4c58-a653-b13f15f6a635"
      },
      "execution_count": null,
      "outputs": [
        {
          "output_type": "stream",
          "name": "stderr",
          "text": [
            "/usr/local/lib/python3.7/dist-packages/statsmodels/tools/_testing.py:19: FutureWarning: pandas.util.testing is deprecated. Use the functions in the public API at pandas.testing instead.\n",
            "  import pandas.util.testing as tm\n"
          ]
        }
      ]
    },
    {
      "cell_type": "markdown",
      "source": [
        "Question 1\n",
        "H0: wait time at savewell = waittime at spendwise\n",
        "H1: wait time at savewell <=  waittime at spendwise\n"
      ],
      "metadata": {
        "id": "K7AHisjE9u5B"
      }
    },
    {
      "cell_type": "markdown",
      "source": [
        "Question 2\n",
        "We will carry out a an independent sample T-test because, they are two independent test subjects (Savewell and spendWise). Further more we will carry out a test of normality to determine if this is to be an independent samples t test or the Mann Whitney U."
      ],
      "metadata": {
        "id": "1PwSmjwh93Qz"
      }
    },
    {
      "cell_type": "code",
      "source": [
        "fig = sm.qqplot(np.array(SaveWell), line='s')\n",
        "pyplot.show()"
      ],
      "metadata": {
        "colab": {
          "base_uri": "https://localhost:8080/",
          "height": 279
        },
        "id": "shNIMb3W-zmd",
        "outputId": "d6e445ae-20f4-4cbb-a117-b70efa1a94a4"
      },
      "execution_count": null,
      "outputs": [
        {
          "output_type": "display_data",
          "data": {
            "text/plain": [
              "<Figure size 432x288 with 1 Axes>"
            ],
            "image/png": "[encoded data removed]"
          },
          "metadata": {
            "needs_background": "light"
          }
        }
      ]
    },
    {
      "cell_type": "code",
      "source": [
        "fig = sm.qqplot(np.array(SpendWise), line='s')\n",
        "pyplot.show()"
      ],
      "metadata": {
        "colab": {
          "base_uri": "https://localhost:8080/",
          "height": 279
        },
        "id": "dfdjal9P_DOM",
        "outputId": "42284c68-d9ae-42ff-de6d-608bf531ed03"
      },
      "execution_count": null,
      "outputs": [
        {
          "output_type": "display_data",
          "data": {
            "text/plain": [
              "<Figure size 432x288 with 1 Axes>"
            ],
            "image/png": "[encoded data removed]"
          },
          "metadata": {
            "needs_background": "light"
          }
        }
      ]
    },
    {
      "cell_type": "markdown",
      "source": [
        "We will next check for normality using the Shapiro-Wilk test. The null and alternative hypotheses of this test are:\n",
        "\n",
        "    H0: The data are drawn from a normally-distributed population.\n",
        "\n",
        "    Ha: The data are not drawn from a normally-distributed population.\n",
        "\n",
        "For this test we will set the significance level α\n",
        "to 0.05."
      ],
      "metadata": {
        "id": "2I1GJR7h8xv5"
      }
    },
    {
      "cell_type": "code",
      "source": [
        "normality_report = 'For {}, the test statistic is {:.3f} and the p value is {:.3f}'\n",
        "statistic, pvalue = st.shapiro(SaveWell) \n",
        "print(normality_report.format('SaveWell',statistic,pvalue))"
      ],
      "metadata": {
        "colab": {
          "base_uri": "https://localhost:8080/"
        },
        "id": "8SOeWdrQBGQE",
        "outputId": "eee6b550-ecba-4b87-87f4-b359b555d1a7"
      },
      "execution_count": null,
      "outputs": [
        {
          "output_type": "stream",
          "name": "stdout",
          "text": [
            "For SaveWell, the test statistic is 0.971 and the p value is 0.899\n"
          ]
        }
      ]
    },
    {
      "cell_type": "code",
      "source": [
        "normality_report = 'For {}, the test statistic is {:.3f} and the p value is {:.3f}'\n",
        "statistic, pvalue = st.shapiro(SpendWise) \n",
        "print(normality_report.format('SpendWise',statistic,pvalue))"
      ],
      "metadata": {
        "colab": {
          "base_uri": "https://localhost:8080/"
        },
        "id": "KiQ8MwOS9EIS",
        "outputId": "87c5455b-bc85-43b4-a7de-710832d18857"
      },
      "execution_count": null,
      "outputs": [
        {
          "output_type": "stream",
          "name": "stdout",
          "text": [
            "For SpendWise, the test statistic is 0.670 and the p value is 0.000\n"
          ]
        }
      ]
    },
    {
      "cell_type": "markdown",
      "source": [
        "Our analysis produced a non significant P-vlaue, Hence, we can Conclude that our data was from a normally distributed population. SO, we will proceed to use the an independent samples t test."
      ],
      "metadata": {
        "id": "TDlBrfn8AFKN"
      }
    },
    {
      "cell_type": "markdown",
      "source": [
        "Futhermore, we will perform a Levene’s test to check for Equality of variance.\n",
        "The null and alternative hypotheses of this test are:\n"
      ],
      "metadata": {
        "id": "GeRDhAurAtNC"
      }
    },
    {
      "cell_type": "markdown",
      "source": [
        "    H0: The variances of the populations from which the samples are drawn are equal - equality of variance (homoscedasticity) is present.\n",
        "\n",
        "    Ha: The variances of the populations from which the samples are drawn are not equal - unequal variance (heteroscedasticity) is present.\n",
        "\n",
        "Once again, we will use a significance level α\n",
        "of 0.05, meaning that the probability of falsely rejecting the null hypothesis of equal variance when in fact it is true is 5%."
      ],
      "metadata": {
        "id": "GwxHPHpm9ggz"
      }
    },
    {
      "cell_type": "code",
      "source": [
        "homoscedasticity_report = 'The test statistic is {:.3f} and the p value is {:.3f}'\n",
        "\n",
        "statistic, pvalue = st.levene(\n",
        "    SaveWell,\n",
        "    SpendWise)\n",
        "\n",
        "print(homoscedasticity_report.format(statistic,pvalue))"
      ],
      "metadata": {
        "colab": {
          "base_uri": "https://localhost:8080/"
        },
        "id": "IXlgvObo9luW",
        "outputId": "7d7655c9-2003-430c-f5fd-539a19304799"
      },
      "execution_count": null,
      "outputs": [
        {
          "output_type": "stream",
          "name": "stdout",
          "text": [
            "The test statistic is 0.048 and the p value is 0.829\n"
          ]
        }
      ]
    },
    {
      "cell_type": "markdown",
      "source": [
        "At α=0.05, The test produced a non-significant result. So we will conclude that our test is independent samples t test for equal variances ( Student’s t-test.).\n",
        "Also, because our test is less than (one direction). It is called a one tail test."
      ],
      "metadata": {
        "id": "3giGItX2CBnS"
      }
    },
    {
      "cell_type": "markdown",
      "source": [
        "Question 1c\n",
        "For our Alpha Value, We will be using 0.05. This is because with a lower alpha vlaue, the probability of commiting a type 1 error is less. \n"
      ],
      "metadata": {
        "id": "kjk0RTVMDGBY"
      }
    },
    {
      "cell_type": "code",
      "source": [
        "#Question 1D\n",
        "#Table of summary Statistics\n",
        "df = pd.DataFrame({'SaveWell':SaveWell,'SpendWise':SpendWise})\n",
        "df.describe()"
      ],
      "metadata": {
        "colab": {
          "base_uri": "https://localhost:8080/",
          "height": 300
        },
        "id": "ukw_Er529wA3",
        "outputId": "7fcf36d5-a4ca-4801-b4cc-af565e805f74"
      },
      "execution_count": null,
      "outputs": [
        {
          "output_type": "execute_result",
          "data": {
            "text/plain": [
              "        SaveWell  SpendWise\n",
              "count  10.000000  10.000000\n",
              "mean    3.520000   4.070000\n",
              "std     1.121309   1.918362\n",
              "min     1.500000   2.500000\n",
              "25%     2.775000   3.250000\n",
              "50%     3.750000   3.500000\n",
              "75%     4.025000   3.825000\n",
              "max     5.200000   9.200000"
            ],
            "text/html": [
              "\n",
              "  <div id=\"df-4de4f112-ad8a-452e-9e33-8beaa841f0d7\">\n",
              "    <div class=\"colab-df-container\">\n",
              "      <div>\n",
              "<style scoped>\n",
              "    .dataframe tbody tr th:only-of-type {\n",
              "        vertical-align: middle;\n",
              "    }\n",
              "\n",
              "    .dataframe tbody tr th {\n",
              "        vertical-align: top;\n",
              "    }\n",
              "\n",
              "    .dataframe thead th {\n",
              "        text-align: right;\n",
              "    }\n",
              "</style>\n",
              "<table border=\"1\" class=\"dataframe\">\n",
              "  <thead>\n",
              "    <tr style=\"text-align: right;\">\n",
              "      <th></th>\n",
              "      <th>SaveWell</th>\n",
              "      <th>SpendWise</th>\n",
              "    </tr>\n",
              "  </thead>\n",
              "  <tbody>\n",
              "    <tr>\n",
              "      <th>count</th>\n",
              "      <td>10.000000</td>\n",
              "      <td>10.000000</td>\n",
              "    </tr>\n",
              "    <tr>\n",
              "      <th>mean</th>\n",
              "      <td>3.520000</td>\n",
              "      <td>4.070000</td>\n",
              "    </tr>\n",
              "    <tr>\n",
              "      <th>std</th>\n",
              "      <td>1.121309</td>\n",
              "      <td>1.918362</td>\n",
              "    </tr>\n",
              "    <tr>\n",
              "      <th>min</th>\n",
              "      <td>1.500000</td>\n",
              "      <td>2.500000</td>\n",
              "    </tr>\n",
              "    <tr>\n",
              "      <th>25%</th>\n",
              "      <td>2.775000</td>\n",
              "      <td>3.250000</td>\n",
              "    </tr>\n",
              "    <tr>\n",
              "      <th>50%</th>\n",
              "      <td>3.750000</td>\n",
              "      <td>3.500000</td>\n",
              "    </tr>\n",
              "    <tr>\n",
              "      <th>75%</th>\n",
              "      <td>4.025000</td>\n",
              "      <td>3.825000</td>\n",
              "    </tr>\n",
              "    <tr>\n",
              "      <th>max</th>\n",
              "      <td>5.200000</td>\n",
              "      <td>9.200000</td>\n",
              "    </tr>\n",
              "  </tbody>\n",
              "</table>\n",
              "</div>\n",
              "      <button class=\"colab-df-convert\" onclick=\"convertToInteractive('df-4de4f112-ad8a-452e-9e33-8beaa841f0d7')\"\n",
              "              title=\"Convert this dataframe to an interactive table.\"\n",
              "              style=\"display:none;\">\n",
              "        \n",
              "  <svg xmlns=\"http://www.w3.org/2000/svg\" height=\"24px\"viewBox=\"0 0 24 24\"\n",
              "       width=\"24px\">\n",
              "    <path d=\"M0 0h24v24H0V0z\" fill=\"none\"/>\n",
              "    <path d=\"M18.56 5.44l.94 2.06.94-2.06 2.06-.94-2.06-.94-.94-2.06-.94 2.06-2.06.94zm-11 1L8.5 8.5l.94-2.06 2.06-.94-2.06-.94L8.5 2.5l-.94 2.06-2.06.94zm10 10l.94 2.06.94-2.06 2.06-.94-2.06-.94-.94-2.06-.94 2.06-2.06.94z\"/><path d=\"M17.41 7.96l-1.37-1.37c-.4-.4-.92-.59-1.43-.59-.52 0-1.04.2-1.43.59L10.3 9.45l-7.72 7.72c-.78.78-.78 2.05 0 2.83L4 21.41c.39.39.9.59 1.41.59.51 0 1.02-.2 1.41-.59l7.78-7.78 2.81-2.81c.8-.78.8-2.07 0-2.86zM5.41 20L4 18.59l7.72-7.72 1.47 1.35L5.41 20z\"/>\n",
              "  </svg>\n",
              "      </button>\n",
              "      \n",
              "  <style>\n",
              "    .colab-df-container {\n",
              "      display:flex;\n",
              "      flex-wrap:wrap;\n",
              "      gap: 12px;\n",
              "    }\n",
              "\n",
              "    .colab-df-convert {\n",
              "      background-color: #E8F0FE;\n",
              "      border: none;\n",
              "      border-radius: 50%;\n",
              "      cursor: pointer;\n",
              "      display: none;\n",
              "      fill: #1967D2;\n",
              "      height: 32px;\n",
              "      padding: 0 0 0 0;\n",
              "      width: 32px;\n",
              "    }\n",
              "\n",
              "    .colab-df-convert:hover {\n",
              "      background-color: #E2EBFA;\n",
              "      box-shadow: 0px 1px 2px rgba(60, 64, 67, 0.3), 0px 1px 3px 1px rgba(60, 64, 67, 0.15);\n",
              "      fill: #174EA6;\n",
              "    }\n",
              "\n",
              "    [theme=dark] .colab-df-convert {\n",
              "      background-color: #3B4455;\n",
              "      fill: #D2E3FC;\n",
              "    }\n",
              "\n",
              "    [theme=dark] .colab-df-convert:hover {\n",
              "      background-color: #434B5C;\n",
              "      box-shadow: 0px 1px 3px 1px rgba(0, 0, 0, 0.15);\n",
              "      filter: drop-shadow(0px 1px 2px rgba(0, 0, 0, 0.3));\n",
              "      fill: #FFFFFF;\n",
              "    }\n",
              "  </style>\n",
              "\n",
              "      <script>\n",
              "        const buttonEl =\n",
              "          document.querySelector('#df-4de4f112-ad8a-452e-9e33-8beaa841f0d7 button.colab-df-convert');\n",
              "        buttonEl.style.display =\n",
              "          google.colab.kernel.accessAllowed ? 'block' : 'none';\n",
              "\n",
              "        async function convertToInteractive(key) {\n",
              "          const element = document.querySelector('#df-4de4f112-ad8a-452e-9e33-8beaa841f0d7');\n",
              "          const dataTable =\n",
              "            await google.colab.kernel.invokeFunction('convertToInteractive',\n",
              "                                                     [key], {});\n",
              "          if (!dataTable) return;\n",
              "\n",
              "          const docLinkHtml = 'Like what you see? Visit the ' +\n",
              "            '<a target=\"_blank\" href=https://colab.research.google.com/notebooks/data_table.ipynb>data table notebook</a>'\n",
              "            + ' to learn more about interactive tables.';\n",
              "          element.innerHTML = '';\n",
              "          dataTable['output_type'] = 'display_data';\n",
              "          await google.colab.output.renderOutput(dataTable, element);\n",
              "          const docLink = document.createElement('div');\n",
              "          docLink.innerHTML = docLinkHtml;\n",
              "          element.appendChild(docLink);\n",
              "        }\n",
              "      </script>\n",
              "    </div>\n",
              "  </div>\n",
              "  "
            ]
          },
          "metadata": {},
          "execution_count": 8
        }
      ]
    },
    {
      "cell_type": "code",
      "source": [
        "#Question 1E\n",
        "fig = pyplot.hist(SaveWell, bins=5)\n",
        "pyplot.show()"
      ],
      "metadata": {
        "colab": {
          "base_uri": "https://localhost:8080/",
          "height": 265
        },
        "id": "lQHN9NEd-Wao",
        "outputId": "c610b8f3-b4fa-4751-ea9d-209d98fdb2ea"
      },
      "execution_count": null,
      "outputs": [
        {
          "output_type": "display_data",
          "data": {
            "text/plain": [
              "<Figure size 432x288 with 1 Axes>"
            ],
            "image/png": "[encoded data removed]"
          },
          "metadata": {
            "needs_background": "light"
          }
        }
      ]
    },
    {
      "cell_type": "code",
      "source": [
        "fig = pyplot.hist(SpendWise, bins=5)\n",
        "pyplot.show()"
      ],
      "metadata": {
        "colab": {
          "base_uri": "https://localhost:8080/",
          "height": 265
        },
        "id": "JgkZHqmE-faN",
        "outputId": "6006c58c-f3aa-42b7-b385-7ae3613f340e"
      },
      "execution_count": null,
      "outputs": [
        {
          "output_type": "display_data",
          "data": {
            "text/plain": [
              "<Figure size 432x288 with 1 Axes>"
            ],
            "image/png": "[encoded data removed]"
          },
          "metadata": {
            "needs_background": "light"
          }
        }
      ]
    },
    {
      "cell_type": "code",
      "source": [
        "dflong = pd.DataFrame(\n",
        "    {'Group': ['SaveWell']*10 + ['SpendWise']*10,\n",
        "    'Attention': SaveWell + SpendWise}\n",
        ")\n",
        "dflong"
      ],
      "metadata": {
        "colab": {
          "base_uri": "https://localhost:8080/",
          "height": 676
        },
        "id": "zb5Ndqvl-lB7",
        "outputId": "eeb91f5b-7781-4f24-ef39-02f2e647b753"
      },
      "execution_count": null,
      "outputs": [
        {
          "output_type": "execute_result",
          "data": {
            "text/plain": [
              "        Group  Attention\n",
              "0    SaveWell        2.5\n",
              "1    SaveWell        4.9\n",
              "2    SaveWell        3.7\n",
              "3    SaveWell        4.1\n",
              "4    SaveWell        3.8\n",
              "5    SaveWell        3.0\n",
              "6    SaveWell        2.7\n",
              "7    SaveWell        3.8\n",
              "8    SaveWell        5.2\n",
              "9    SaveWell        1.5\n",
              "10  SpendWise        3.2\n",
              "11  SpendWise        9.2\n",
              "12  SpendWise        5.0\n",
              "13  SpendWise        2.9\n",
              "14  SpendWise        3.6\n",
              "15  SpendWise        3.9\n",
              "16  SpendWise        3.4\n",
              "17  SpendWise        2.5\n",
              "18  SpendWise        3.5\n",
              "19  SpendWise        3.5"
            ],
            "text/html": [
              "\n",
              "  <div id=\"df-94a057e9-865e-4782-8eb9-798603d1d7d0\">\n",
              "    <div class=\"colab-df-container\">\n",
              "      <div>\n",
              "<style scoped>\n",
              "    .dataframe tbody tr th:only-of-type {\n",
              "        vertical-align: middle;\n",
              "    }\n",
              "\n",
              "    .dataframe tbody tr th {\n",
              "        vertical-align: top;\n",
              "    }\n",
              "\n",
              "    .dataframe thead th {\n",
              "        text-align: right;\n",
              "    }\n",
              "</style>\n",
              "<table border=\"1\" class=\"dataframe\">\n",
              "  <thead>\n",
              "    <tr style=\"text-align: right;\">\n",
              "      <th></th>\n",
              "      <th>Group</th>\n",
              "      <th>Attention</th>\n",
              "    </tr>\n",
              "  </thead>\n",
              "  <tbody>\n",
              "    <tr>\n",
              "      <th>0</th>\n",
              "      <td>SaveWell</td>\n",
              "      <td>2.5</td>\n",
              "    </tr>\n",
              "    <tr>\n",
              "      <th>1</th>\n",
              "      <td>SaveWell</td>\n",
              "      <td>4.9</td>\n",
              "    </tr>\n",
              "    <tr>\n",
              "      <th>2</th>\n",
              "      <td>SaveWell</td>\n",
              "      <td>3.7</td>\n",
              "    </tr>\n",
              "    <tr>\n",
              "      <th>3</th>\n",
              "      <td>SaveWell</td>\n",
              "      <td>4.1</td>\n",
              "    </tr>\n",
              "    <tr>\n",
              "      <th>4</th>\n",
              "      <td>SaveWell</td>\n",
              "      <td>3.8</td>\n",
              "    </tr>\n",
              "    <tr>\n",
              "      <th>5</th>\n",
              "      <td>SaveWell</td>\n",
              "      <td>3.0</td>\n",
              "    </tr>\n",
              "    <tr>\n",
              "      <th>6</th>\n",
              "      <td>SaveWell</td>\n",
              "      <td>2.7</td>\n",
              "    </tr>\n",
              "    <tr>\n",
              "      <th>7</th>\n",
              "      <td>SaveWell</td>\n",
              "      <td>3.8</td>\n",
              "    </tr>\n",
              "    <tr>\n",
              "      <th>8</th>\n",
              "      <td>SaveWell</td>\n",
              "      <td>5.2</td>\n",
              "    </tr>\n",
              "    <tr>\n",
              "      <th>9</th>\n",
              "      <td>SaveWell</td>\n",
              "      <td>1.5</td>\n",
              "    </tr>\n",
              "    <tr>\n",
              "      <th>10</th>\n",
              "      <td>SpendWise</td>\n",
              "      <td>3.2</td>\n",
              "    </tr>\n",
              "    <tr>\n",
              "      <th>11</th>\n",
              "      <td>SpendWise</td>\n",
              "      <td>9.2</td>\n",
              "    </tr>\n",
              "    <tr>\n",
              "      <th>12</th>\n",
              "      <td>SpendWise</td>\n",
              "      <td>5.0</td>\n",
              "    </tr>\n",
              "    <tr>\n",
              "      <th>13</th>\n",
              "      <td>SpendWise</td>\n",
              "      <td>2.9</td>\n",
              "    </tr>\n",
              "    <tr>\n",
              "      <th>14</th>\n",
              "      <td>SpendWise</td>\n",
              "      <td>3.6</td>\n",
              "    </tr>\n",
              "    <tr>\n",
              "      <th>15</th>\n",
              "      <td>SpendWise</td>\n",
              "      <td>3.9</td>\n",
              "    </tr>\n",
              "    <tr>\n",
              "      <th>16</th>\n",
              "      <td>SpendWise</td>\n",
              "      <td>3.4</td>\n",
              "    </tr>\n",
              "    <tr>\n",
              "      <th>17</th>\n",
              "      <td>SpendWise</td>\n",
              "      <td>2.5</td>\n",
              "    </tr>\n",
              "    <tr>\n",
              "      <th>18</th>\n",
              "      <td>SpendWise</td>\n",
              "      <td>3.5</td>\n",
              "    </tr>\n",
              "    <tr>\n",
              "      <th>19</th>\n",
              "      <td>SpendWise</td>\n",
              "      <td>3.5</td>\n",
              "    </tr>\n",
              "  </tbody>\n",
              "</table>\n",
              "</div>\n",
              "      <button class=\"colab-df-convert\" onclick=\"convertToInteractive('df-94a057e9-865e-4782-8eb9-798603d1d7d0')\"\n",
              "              title=\"Convert this dataframe to an interactive table.\"\n",
              "              style=\"display:none;\">\n",
              "        \n",
              "  <svg xmlns=\"http://www.w3.org/2000/svg\" height=\"24px\"viewBox=\"0 0 24 24\"\n",
              "       width=\"24px\">\n",
              "    <path d=\"M0 0h24v24H0V0z\" fill=\"none\"/>\n",
              "    <path d=\"M18.56 5.44l.94 2.06.94-2.06 2.06-.94-2.06-.94-.94-2.06-.94 2.06-2.06.94zm-11 1L8.5 8.5l.94-2.06 2.06-.94-2.06-.94L8.5 2.5l-.94 2.06-2.06.94zm10 10l.94 2.06.94-2.06 2.06-.94-2.06-.94-.94-2.06-.94 2.06-2.06.94z\"/><path d=\"M17.41 7.96l-1.37-1.37c-.4-.4-.92-.59-1.43-.59-.52 0-1.04.2-1.43.59L10.3 9.45l-7.72 7.72c-.78.78-.78 2.05 0 2.83L4 21.41c.39.39.9.59 1.41.59.51 0 1.02-.2 1.41-.59l7.78-7.78 2.81-2.81c.8-.78.8-2.07 0-2.86zM5.41 20L4 18.59l7.72-7.72 1.47 1.35L5.41 20z\"/>\n",
              "  </svg>\n",
              "      </button>\n",
              "      \n",
              "  <style>\n",
              "    .colab-df-container {\n",
              "      display:flex;\n",
              "      flex-wrap:wrap;\n",
              "      gap: 12px;\n",
              "    }\n",
              "\n",
              "    .colab-df-convert {\n",
              "      background-color: #E8F0FE;\n",
              "      border: none;\n",
              "      border-radius: 50%;\n",
              "      cursor: pointer;\n",
              "      display: none;\n",
              "      fill: #1967D2;\n",
              "      height: 32px;\n",
              "      padding: 0 0 0 0;\n",
              "      width: 32px;\n",
              "    }\n",
              "\n",
              "    .colab-df-convert:hover {\n",
              "      background-color: #E2EBFA;\n",
              "      box-shadow: 0px 1px 2px rgba(60, 64, 67, 0.3), 0px 1px 3px 1px rgba(60, 64, 67, 0.15);\n",
              "      fill: #174EA6;\n",
              "    }\n",
              "\n",
              "    [theme=dark] .colab-df-convert {\n",
              "      background-color: #3B4455;\n",
              "      fill: #D2E3FC;\n",
              "    }\n",
              "\n",
              "    [theme=dark] .colab-df-convert:hover {\n",
              "      background-color: #434B5C;\n",
              "      box-shadow: 0px 1px 3px 1px rgba(0, 0, 0, 0.15);\n",
              "      filter: drop-shadow(0px 1px 2px rgba(0, 0, 0, 0.3));\n",
              "      fill: #FFFFFF;\n",
              "    }\n",
              "  </style>\n",
              "\n",
              "      <script>\n",
              "        const buttonEl =\n",
              "          document.querySelector('#df-94a057e9-865e-4782-8eb9-798603d1d7d0 button.colab-df-convert');\n",
              "        buttonEl.style.display =\n",
              "          google.colab.kernel.accessAllowed ? 'block' : 'none';\n",
              "\n",
              "        async function convertToInteractive(key) {\n",
              "          const element = document.querySelector('#df-94a057e9-865e-4782-8eb9-798603d1d7d0');\n",
              "          const dataTable =\n",
              "            await google.colab.kernel.invokeFunction('convertToInteractive',\n",
              "                                                     [key], {});\n",
              "          if (!dataTable) return;\n",
              "\n",
              "          const docLinkHtml = 'Like what you see? Visit the ' +\n",
              "            '<a target=\"_blank\" href=https://colab.research.google.com/notebooks/data_table.ipynb>data table notebook</a>'\n",
              "            + ' to learn more about interactive tables.';\n",
              "          element.innerHTML = '';\n",
              "          dataTable['output_type'] = 'display_data';\n",
              "          await google.colab.output.renderOutput(dataTable, element);\n",
              "          const docLink = document.createElement('div');\n",
              "          docLink.innerHTML = docLinkHtml;\n",
              "          element.appendChild(docLink);\n",
              "        }\n",
              "      </script>\n",
              "    </div>\n",
              "  </div>\n",
              "  "
            ]
          },
          "metadata": {},
          "execution_count": 11
        }
      ]
    },
    {
      "cell_type": "code",
      "source": [
        "sns.boxplot(x='Group', y='Attention', hue='Group', data=dflong)"
      ],
      "metadata": {
        "colab": {
          "base_uri": "https://localhost:8080/",
          "height": 296
        },
        "id": "Pw4j9-c9-rlC",
        "outputId": "0c60fc02-7dec-4d8a-bf53-1e012cebbe9c"
      },
      "execution_count": null,
      "outputs": [
        {
          "output_type": "execute_result",
          "data": {
            "text/plain": [
              "<matplotlib.axes._subplots.AxesSubplot at 0x7f9c1fa03990>"
            ]
          },
          "metadata": {},
          "execution_count": 12
        },
        {
          "output_type": "display_data",
          "data": {
            "text/plain": [
              "<Figure size 432x288 with 1 Axes>"
            ],
            "image/png": "[encoded data removed]"
          },
          "metadata": {
            "needs_background": "light"
          }
        }
      ]
    },
    {
      "cell_type": "code",
      "source": [
        "grid = sns.FacetGrid(\n",
        "    dflong, \n",
        "    col='Group', \n",
        "    col_wrap=2,  \n",
        "    hue='Group', \n",
        "    height=7     \n",
        ")\n",
        "grid.map(sns.kdeplot,'Attention')"
      ],
      "metadata": {
        "colab": {
          "base_uri": "https://localhost:8080/",
          "height": 530
        },
        "id": "qB1uwNm2_ECC",
        "outputId": "395677c0-03a7-415e-c5b7-59b423234285"
      },
      "execution_count": null,
      "outputs": [
        {
          "output_type": "execute_result",
          "data": {
            "text/plain": [
              "<seaborn.axisgrid.FacetGrid at 0x7f9c1f8d9410>"
            ]
          },
          "metadata": {},
          "execution_count": 13
        },
        {
          "output_type": "display_data",
          "data": {
            "text/plain": [
              "<Figure size 1008x504 with 2 Axes>"
            ],
            "image/png": "[encoded data removed]"
          },
          "metadata": {
            "needs_background": "light"
          }
        }
      ]
    },
    {
      "cell_type": "code",
      "source": [
        "!pip install --upgrade scipy"
      ],
      "metadata": {
        "colab": {
          "base_uri": "https://localhost:8080/",
          "height": 346
        },
        "id": "Sab_DHy5AIZ7",
        "outputId": "b28e39c3-fc2a-4998-dcca-b0cc419655a2"
      },
      "execution_count": null,
      "outputs": [
        {
          "output_type": "stream",
          "name": "stdout",
          "text": [
            "Looking in indexes: https://pypi.org/simple, https://us-python.pkg.dev/colab-wheels/public/simple/\n",
            "Requirement already satisfied: scipy in /usr/local/lib/python3.7/dist-packages (1.4.1)\n",
            "Collecting scipy\n",
            "  Downloading scipy-1.7.3-cp37-cp37m-manylinux_2_12_x86_64.manylinux2010_x86_64.whl (38.1 MB)\n",
            "\u001b[K     |████████████████████████████████| 38.1 MB 1.3 MB/s \n",
            "\u001b[?25hRequirement already satisfied: numpy<1.23.0,>=1.16.5 in /usr/local/lib/python3.7/dist-packages (from scipy) (1.21.6)\n",
            "Installing collected packages: scipy\n",
            "  Attempting uninstall: scipy\n",
            "    Found existing installation: scipy 1.4.1\n",
            "    Uninstalling scipy-1.4.1:\n",
            "      Successfully uninstalled scipy-1.4.1\n",
            "\u001b[31mERROR: pip's dependency resolver does not currently take into account all the packages that are installed. This behaviour is the source of the following dependency conflicts.\n",
            "albumentations 0.1.12 requires imgaug<0.2.7,>=0.2.5, but you have imgaug 0.2.9 which is incompatible.\u001b[0m\n",
            "Successfully installed scipy-1.7.3\n"
          ]
        },
        {
          "output_type": "display_data",
          "data": {
            "application/vnd.colab-display-data+json": {
              "pip_warning": {
                "packages": [
                  "scipy"
                ]
              }
            }
          },
          "metadata": {}
        }
      ]
    },
    {
      "cell_type": "code",
      "source": [
        "statistic, p_value = st.ttest_ind(\n",
        "    SaveWell,                #First Sample \n",
        "    SpendWise,             #Second Sample \n",
        "    alternative=\"less\", \n",
        "    equal_var=True) # One-tailed test\n",
        "                             \n",
        "         # Student's t test\n",
        "fmt_string = \"Independent samples two-tailed t-test.\\nTest statistic: {:.3f}, Critical value:{:.3f}, p: {:.3f}\"\n",
        "print(fmt_string.format(statistic, st.t.ppf(0.05/2, df=len(SaveWell)+len(SpendWise)-2), p_value))\n",
        "\n",
        "\n",
        "\n",
        "\n",
        "\n"
      ],
      "metadata": {
        "colab": {
          "base_uri": "https://localhost:8080/"
        },
        "id": "RMB3CKKW-x_-",
        "outputId": "f6a6592d-d285-4acf-bd51-9ff1faa5d0f5"
      },
      "execution_count": null,
      "outputs": [
        {
          "output_type": "stream",
          "name": "stdout",
          "text": [
            "Independent samples two-tailed t-test.\n",
            "Test statistic: -0.783, Critical value:-2.101, p: 0.222\n"
          ]
        }
      ]
    },
    {
      "cell_type": "markdown",
      "source": [
        "Conclusions\n",
        "Test statistic: -0.783, Critical value:-2.101, p: 0.222. Since -0.783 is less extreme than -2.101, We fail to reject the null hypothesis and conclude that the waiting time for both places is equal.\n",
        "\n",
        "We can also compare the returned p value of 0 with our chosen significance (α=0.05). As p>α we fail to reject the null hypothesis."
      ],
      "metadata": {
        "id": "u5pYBuExIJVj"
      }
    },
    {
      "cell_type": "code",
      "source": [],
      "metadata": {
        "id": "c61pDg2MLG4P"
      },
      "execution_count": null,
      "outputs": []
    },
    {
      "cell_type": "markdown",
      "source": [
        "Question 1H\n",
        "\n",
        "As we have failed to reject the null hypothesis, the possibility that we have accpeted the null hypothesis when it is infact wrong would lead to a type II error. \n",
        "With a P-value of 0.222, which is the probabilty that we have infact commited a type II error. *italicised text*"
      ],
      "metadata": {
        "id": "lIMlwdDDJEPE"
      }
    }
  ]
}